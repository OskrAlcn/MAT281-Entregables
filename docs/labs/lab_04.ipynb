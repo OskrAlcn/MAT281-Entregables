{
  "cells": [
    {
      "cell_type": "markdown",
      "id": "64fe4451",
      "metadata": {
        "id": "64fe4451"
      },
      "source": [
        "<a href=\"https://colab.research.google.com/github/fralfaro/MAT281/blob/main/docs/labs/lab_04.ipynb\" target=\"_parent\"><img src=\"https://colab.research.google.com/assets/colab-badge.svg\" alt=\"Open In Colab\"/></a>\n",
        "\n",
        "# MAT281 - Laboratorio N°04\n"
      ]
    },
    {
      "cell_type": "markdown",
      "id": "27b10378",
      "metadata": {
        "id": "27b10378"
      },
      "source": [
        "**Objetivo**: Aplicar técnicas intermedias y avanzadas de análisis de datos con pandas utilizando un caso real: el Índice de Libertad de Prensa. Este laboratorio incluye operaciones de limpieza, transformación, combinación de datos, y análisis exploratorio usando `merge`, `groupby`, `concat` y otras funciones fundamentales.\n"
      ]
    },
    {
      "cell_type": "markdown",
      "id": "63a15921",
      "metadata": {
        "id": "63a15921"
      },
      "source": [
        "\n",
        "\n",
        "**Descripción del Dataset**\n",
        "\n",
        "El presente conjunto de datos está orientado al análisis del **Índice de Libertad de Prensa**, una métrica internacional que evalúa el nivel de libertad del que gozan periodistas y medios de comunicación en distintos países. Este índice es recopilado anualmente por la organización **Reporteros sin Fronteras**.\n",
        "\n",
        "La base de datos contempla observaciones por país y año, e incluye tanto el valor del índice como el ranking correspondiente. A menor puntaje en el índice, mayor nivel de libertad de prensa.\n",
        "\n",
        "**Diccionario de variables**\n",
        "\n",
        "| Variable     | Clase    | Descripción                                                                          |\n",
        "| ------------ | -------- | ------------------------------------------------------------------------------------ |\n",
        "| `codigo_iso` | carácter | Código ISO 3166-1 alfa-3 que representa a cada país.                                 |\n",
        "| `pais`       | carácter | Nombre oficial del país.                                                             |\n",
        "| `anio`       | entero   | Año en que se registró la medición del índice.                                       |\n",
        "| `indice`     | numérico | Valor numérico del Índice de Libertad de Prensa (menor valor indica mayor libertad). |\n",
        "| `ranking`    | entero   | Posición relativa del país en el ranking mundial de libertad de prensa.              |\n",
        "\n",
        "\n",
        "**Fuente original y adaptación pedagógica**\n",
        "\n",
        "* **Fuente original**: [Reporteros sin Fronteras](https://www.rsf-es.org/), recopilado y publicado a través del portal del [Banco Mundial](https://tcdata360.worldbank.org/indicators/h3f86901f?country=BRA&indicator=32416&viz=line_chart&years=2001,2019).\n",
        "* **Adaptación educativa**: Los archivos han sido modificados intencionalmente para incorporar desafíos técnicos que permiten aplicar los contenidos abordados en clases, tales como limpieza de datos, normalización, detección de duplicados, y combinación de fuentes.\n",
        "\n",
        "\n",
        "**Descripción de los archivos disponibles**\n",
        "\n",
        "* **`libertad_prensa_codigo.csv`**: Contiene los pares `codigo_iso` y `pais`. Incluye intencionalmente un código ISO con dos nombres distintos de país para efectos de limpieza y validación de datos.\n",
        "\n",
        "* **`libertad_prensa_01.csv`**: Contiene registros de los años **anteriores a 2010**. Incluye las variables `PAIS`, `ANIO`, `INDICE`, y `RANKING` con nombres de columna en **mayúsculas**.\n",
        "\n",
        "* **`libertad_prensa_02.csv`**: Contiene registros de los años **desde 2010 en adelante**. Estructura similar al archivo anterior, con nombres de columna también en **mayúsculas**.\n",
        "\n",
        "\n",
        "\n"
      ]
    },
    {
      "cell_type": "code",
      "execution_count": 1,
      "id": "28a58320",
      "metadata": {
        "id": "28a58320"
      },
      "outputs": [],
      "source": [
        "import numpy as np\n",
        "import pandas as pd\n",
        "\n",
        "# lectura de datos\n",
        "archivos_anio = [\n",
        "    'https://raw.githubusercontent.com/fralfaro/MAT281/main/docs/labs/data/libertad_prensa_01.csv',\n",
        "    'https://raw.githubusercontent.com/fralfaro/MAT281/main/docs/labs/data/libertad_prensa_02.csv'\n",
        " ]\n",
        "df_codigos = pd.read_csv('https://raw.githubusercontent.com/fralfaro/MAT281/main/docs/labs/data/libertad_prensa_codigo.csv')"
      ]
    },
    {
      "cell_type": "markdown",
      "id": "0894056d",
      "metadata": {
        "id": "0894056d"
      },
      "source": [
        "\n",
        "\n",
        "### 1. Consolidación y limpieza de datos\n",
        "\n",
        "A partir de los archivos disponibles, realice los siguientes pasos:\n",
        "\n",
        "**a)** Cree un DataFrame llamado `df_anio` que consolide la información proveniente de los archivos **`libertad_prensa_01.csv`** y **`libertad_prensa_02.csv`**, correspondientes a distintas ventanas de tiempo. Recuerde que ambos archivos tienen nombres de columnas en mayúscula, por lo que debe normalizarlas a **minúscula** para asegurar consistencia.\n",
        "\n",
        "**b)** Explore el archivo **`libertad_prensa_codigo.csv`** e identifique el código ISO que aparece asociado a dos nombres de país distintos. Elimine el registro que corresponda a un valor incorrecto o inconsistente, conservando solo el que considere válido.\n",
        "\n",
        "**c)** Una vez preparados los archivos, cree un nuevo DataFrame llamado `df` que combine `df_anio` con `df_codigos`, utilizando la columna `codigo_iso` como clave. Asegúrese de realizar una unión que conserve únicamente los registros que tengan coincidencia en ambas fuentes.\n",
        "\n",
        "> **Sugerencia**:\n",
        ">\n",
        "> * Para unir los archivos por filas (años), utilice la función `pd.concat([...])`.\n",
        "> * Para combinar información por columnas (variables), utilice `pd.merge(...)` especificando `on='codigo_iso'`.\n",
        "\n"
      ]
    },
    {
      "cell_type": "code",
      "execution_count": 7,
      "id": "cfd268a0",
      "metadata": {
        "colab": {
          "base_uri": "https://localhost:8080/"
        },
        "id": "cfd268a0",
        "outputId": "a8b5f5c0-b0e0-477d-e740-5a50284ea009"
      },
      "outputs": [
        {
          "output_type": "stream",
          "name": "stdout",
          "text": [
            "Códigos ISO duplicados:\n",
            "    codigo_iso      pais\n",
            "179        ZWE  Zimbabue\n",
            "180        ZWE      malo\n"
          ]
        }
      ],
      "source": [
        "# FIXME\n",
        "\n",
        "df = pd.DataFrame()\n",
        "\n",
        "# a)\n",
        "dfs = [pd.read_csv(url) for url in archivos_anio]\n",
        "\n",
        "# Normalizar columnas\n",
        "for i in range(len(dfs)):\n",
        "    dfs[i].columns = dfs[i].columns.str.lower()\n",
        "\n",
        "# Unir por filas\n",
        "df_anio = pd.concat(dfs, ignore_index=True)\n",
        "\n",
        "# Conversión de tipos numéricos\n",
        "df_anio['anio']   = pd.to_numeric(df_anio['anio'], errors='coerce').astype('Int64')\n",
        "df_anio['indice'] = pd.to_numeric(df_anio['indice'], errors='coerce')\n",
        "\n",
        "\n",
        "#b)\n",
        "# Revisar duplicados en codigo_iso\n",
        "duplicados = df_codigos[df_codigos.duplicated(subset=[\"codigo_iso\"], keep=False)]\n",
        "\n",
        "print(\"Códigos ISO duplicados:\")\n",
        "print(duplicados)\n",
        "\n",
        "#c)\n",
        "df = pd.merge(df_anio, df_codigos, on='codigo_iso', how='inner')\n",
        "df = df.rename(columns=str.lower)\n"
      ]
    },
    {
      "cell_type": "markdown",
      "id": "282e8301",
      "metadata": {
        "id": "282e8301"
      },
      "source": [
        "\n",
        "\n",
        "### 2. Exploración inicial del conjunto de datos\n",
        "\n",
        "Una vez que hayas consolidado el DataFrame final `df`, realiza un análisis exploratorio básico respondiendo las siguientes preguntas:\n",
        "\n",
        "#### **Estructura del DataFrame**\n",
        "\n",
        "* ¿Cuántas **filas (observaciones)** contiene el conjunto de datos?\n",
        "* ¿Cuántas **columnas** tiene el DataFrame?\n",
        "* ¿Cuáles son los **nombres de las columnas**?\n",
        "* ¿Qué **tipo de datos** tiene cada columna?\n",
        "* ¿Hay columnas con un tipo de dato inesperado (por ejemplo, fechas como strings)?\n",
        "\n",
        "#### **Resumen estadístico**\n",
        "\n",
        "* Genera un resumen estadístico del conjunto de datos con `.describe()`.\n",
        "  ¿Qué observas sobre los valores de `indice` y `ranking`?\n",
        "* ¿Qué valores mínimo, máximo y promedio tiene la columna `indice`?\n",
        "* ¿Qué países presentan los valores extremos en `indice` y `ranking`?\n",
        "\n",
        "#### **Datos faltantes**\n",
        "\n",
        "* ¿Cuántos valores nulos hay en cada columna?\n",
        "* ¿Qué proporción de observaciones tienen valores faltantes?\n",
        "* ¿Hay columnas con más del 30% de datos faltantes?\n",
        "\n",
        "#### **Unicidad y duplicados**\n",
        "\n",
        "* ¿Cuántos países distintos (`pais`) hay en el DataFrame?\n",
        "* ¿Cuántos años distintos (`anio`) hay representados?\n",
        "* ¿Existen filas duplicadas (exactamente iguales)? ¿Cuántas?\n",
        "\n",
        "#### **Validación cruzada de columnas**\n",
        "\n",
        "* ¿Hay inconsistencias entre el país (`pais`) y su código (`codigo_iso`)?\n",
        "  (por ejemplo, un mismo código ISO asociado a más de un país)\n",
        "\n",
        "> **Sugerencia**: Apoya tu análisis con funciones como `.info()`, `.nunique()`, `.isnull().sum()`, `.duplicated()`, `.value_counts()`, entre otras.\n",
        "\n",
        "\n",
        "\n",
        "    "
      ]
    },
    {
      "cell_type": "code",
      "execution_count": 8,
      "id": "14369830",
      "metadata": {
        "colab": {
          "base_uri": "https://localhost:8080/"
        },
        "id": "14369830",
        "outputId": "9cb23f69-0ce7-4026-b540-88cdc7bd9aa3"
      },
      "outputs": [
        {
          "output_type": "stream",
          "name": "stdout",
          "text": [
            "Filas: 3077\n",
            "Columnas: 5\n",
            "Columnas: ['codigo_iso', 'anio', 'indice', 'ranking', 'pais']\n",
            "\n",
            "Tipos:\n",
            " codigo_iso     object\n",
            "anio            Int64\n",
            "indice        float64\n",
            "ranking       float64\n",
            "pais           object\n",
            "dtype: object\n",
            "\n",
            "Nulos por columna:\n",
            " codigo_iso      0\n",
            "anio            0\n",
            "indice        397\n",
            "ranking       223\n",
            "pais            0\n",
            "dtype: int64\n",
            "\n",
            "Países distintos: 180\n",
            "Años distintos: 17\n"
          ]
        }
      ],
      "source": [
        "print(\"Filas:\", df.shape[0])\n",
        "print(\"Columnas:\", df.shape[1])\n",
        "print(\"Columnas:\", df.columns.tolist())\n",
        "print(\"\\nTipos:\\n\", df.dtypes)\n",
        "print(\"\\nNulos por columna:\\n\", df.isnull().sum())\n",
        "print(\"\\nPaíses distintos:\", df['pais'].nunique())\n",
        "print(\"Años distintos:\", df['anio'].nunique())"
      ]
    },
    {
      "cell_type": "markdown",
      "id": "98efcc39",
      "metadata": {
        "id": "98efcc39"
      },
      "source": [
        "\n",
        "\n",
        "\n",
        "### 3. Comparación regional: países latinoamericanos\n",
        "\n",
        "En esta sección se busca identificar cuáles son los países de América Latina que han presentado los valores extremos del **Índice de Libertad de Prensa** en cada año observado.\n",
        "\n",
        "> Recuerda que un menor puntaje en `indice` implica mayor libertad de prensa.\n",
        "\n",
        "#### **Tareas:**\n",
        "\n",
        "**a)** Utilizando un ciclo `for`, recorre cada año del conjunto de datos filtrado por países latinoamericanos, y determina para cada año:\n",
        "\n",
        "* El país con el menor valor de `indice` (mayor libertad de prensa).\n",
        "* El país con el mayor valor de `indice` (menor libertad de prensa).\n",
        "\n",
        "**b)** Resuelve la misma tarea del punto anterior utilizando un enfoque vectorizado con `groupby`, sin usar ciclos explícitos.\n",
        "\n",
        "\n",
        "\n",
        "#### **Lista de países latinoamericanos considerada:**\n",
        "\n",
        "```python\n",
        "america = ['ARG', 'ATG', 'BLZ', 'BOL', 'BRA', 'CAN', 'CHL', 'COL', 'CRI',\n",
        "           'CUB', 'DOM', 'ECU', 'GRD', 'GTM', 'GUY', 'HND', 'HTI', 'JAM',\n",
        "           'MEX', 'NIC', 'PAN', 'PER', 'PRY', 'SLV', 'SUR', 'TTO', 'URY',\n",
        "           'USA', 'VEN']\n",
        "```\n",
        "\n",
        "> Puedes usar esta lista para filtrar el DataFrame final por la columna `codigo_iso`.\n",
        "\n"
      ]
    },
    {
      "cell_type": "code",
      "execution_count": 9,
      "id": "9077a9bc",
      "metadata": {
        "colab": {
          "base_uri": "https://localhost:8080/"
        },
        "id": "9077a9bc",
        "outputId": "39fe7ea8-b33c-4e7c-c6fa-b8efcbada438"
      },
      "outputs": [
        {
          "output_type": "stream",
          "name": "stdout",
          "text": [
            "Año 2001: menor índice -> Canadá (0.800), mayor índice -> Cuba (90.300)\n",
            "Año 2002: menor índice -> Trinidad y Tobago (1.000), mayor índice -> Cuba (97.830)\n",
            "Año 2003: menor índice -> Trinidad y Tobago (2.000), mayor índice -> Argentina (35826.000)\n",
            "Año 2004: menor índice -> Trinidad y Tobago (2.000), mayor índice -> Cuba (87.000)\n",
            "Año 2005: menor índice -> Bolivia (4.500), mayor índice -> Cuba (95.000)\n",
            "Año 2006: menor índice -> Canadá (4.880), mayor índice -> Cuba (96.170)\n",
            "Año 2007: menor índice -> Canadá (3.330), mayor índice -> Cuba (88.330)\n",
            "Año 2008: menor índice -> Canadá (3.700), mayor índice -> Cuba (94.000)\n",
            "Año 2009: menor índice -> Estados Unidos (6.750), mayor índice -> Cuba (78.000)\n",
            "Año 2012: menor índice -> Jamaica (9.880), mayor índice -> Cuba (71.640)\n",
            "Año 2013: menor índice -> Jamaica (10.900), mayor índice -> Cuba (70.920)\n",
            "Año 2014: menor índice -> Canadá (10.990), mayor índice -> Cuba (70.210)\n",
            "Año 2015: menor índice -> Costa Rica (11.100), mayor índice -> Cuba (70.230)\n",
            "Año 2017: menor índice -> Costa Rica (11.930), mayor índice -> Cuba (71.750)\n",
            "Año 2018: menor índice -> Jamaica (11.330), mayor índice -> Cuba (68.900)\n",
            "Año 2019: menor índice -> Jamaica (11.130), mayor índice -> Cuba (63.810)\n",
            "      pais_menor_indice pais_mayor_indice\n",
            "anio                                     \n",
            "2001             Canadá              Cuba\n",
            "2002  Trinidad y Tobago              Cuba\n",
            "2003  Trinidad y Tobago         Argentina\n",
            "2004  Trinidad y Tobago              Cuba\n",
            "2005            Bolivia              Cuba\n",
            "2006             Canadá              Cuba\n",
            "2007             Canadá              Cuba\n",
            "2008             Canadá              Cuba\n",
            "2009     Estados Unidos              Cuba\n",
            "2012            Jamaica              Cuba\n",
            "2013            Jamaica              Cuba\n",
            "2014             Canadá              Cuba\n",
            "2015         Costa Rica              Cuba\n",
            "2017         Costa Rica              Cuba\n",
            "2018            Jamaica              Cuba\n",
            "2019            Jamaica              Cuba\n"
          ]
        },
        {
          "output_type": "stream",
          "name": "stderr",
          "text": [
            "/tmp/ipython-input-3595769069.py:32: DeprecationWarning: DataFrameGroupBy.apply operated on the grouping columns. This behavior is deprecated, and in a future version of pandas the grouping columns will be excluded from the operation. Either pass `include_groups=False` to exclude the groupings or explicitly select the grouping columns after groupby to silence this warning.\n",
            "  resultado = df_america.groupby('anio').apply(\n"
          ]
        }
      ],
      "source": [
        "# respuesta\n",
        "america = ['ARG', 'ATG', 'BLZ', 'BOL', 'BRA', 'CAN', 'CHL', 'COL', 'CRI',\n",
        "       'CUB', 'DOM', 'ECU', 'GRD', 'GTM', 'GUY', 'HND', 'HTI', 'JAM',\n",
        "       'MEX', 'NIC', 'PAN', 'PER', 'PRY', 'SLV', 'SUR', 'TTO', 'URY',\n",
        "       'USA', 'VEN']\n",
        "\n",
        "df_america =  pd.DataFrame() # FIX ME\n",
        "\n",
        "df_america = df[df['codigo_iso'].isin(america)].copy()\n",
        "df_america['anio']   = pd.to_numeric(df_america['anio'], errors='coerce').astype('Int64')\n",
        "df_america['indice'] = pd.to_numeric(df_america['indice'], errors='coerce')\n",
        "df_america = df_america.dropna(subset=['anio','indice'])\n",
        "df_america = df_america.groupby(['pais','anio'], as_index=False)['indice'].mean()\n",
        "if df_america.empty:\n",
        "    print(\"No hay datos válidos para América.\")\n",
        "else:\n",
        "    for anio, sub in df_america.groupby('anio', sort=True):\n",
        "        if sub.empty:\n",
        "            continue\n",
        "        idx_min = sub['indice'].idxmin()\n",
        "        idx_max = sub['indice'].idxmax()\n",
        "        pais_min = sub.loc[idx_min, 'pais']\n",
        "        pais_max = sub.loc[idx_max, 'pais']\n",
        "        val_min  = sub.loc[idx_min, 'indice']\n",
        "        val_max  = sub.loc[idx_max, 'indice']\n",
        "        print(f\"Año {int(anio)}: menor índice -> {pais_min} ({val_min:.3f}), mayor índice -> {pais_max} ({val_max:.3f})\")\n",
        "\n",
        "\n",
        "if df_america.empty:\n",
        "    print(\"No hay datos válidos para América.\")\n",
        "else:\n",
        "    resultado = df_america.groupby('anio').apply(\n",
        "        lambda g: pd.Series({\n",
        "            'pais_menor_indice': g.loc[g['indice'].idxmin(), 'pais'],\n",
        "            'pais_mayor_indice': g.loc[g['indice'].idxmax(), 'pais']\n",
        "        })\n",
        "    )\n",
        "    print(resultado)\n",
        "\n",
        ""
      ]
    },
    {
      "cell_type": "markdown",
      "id": "91532f43",
      "metadata": {
        "id": "91532f43"
      },
      "source": [
        "### 4. Análisis anual del índice por país\n",
        "\n",
        "En esta sección se busca analizar la evolución del **índice máximo** de libertad de prensa alcanzado por cada país a lo largo del tiempo.\n",
        "\n",
        "#### **Tarea principal:**\n",
        "\n",
        "* Construye una tabla dinámica (`pivot_table`) donde las **filas** correspondan a los países, las **columnas** a los años (`anio`) y los **valores** sean el `indice` máximo alcanzado por cada país en ese año.\n",
        "* Asegúrate de reemplazar los valores nulos resultantes con `0`.\n",
        "\n",
        "> **Hint**: Puedes utilizar el parámetro `fill_value=0` en `pd.pivot_table(...)`.\n",
        "\n",
        "\n",
        "\n",
        "#### **Preguntas adicionales:**\n",
        "\n",
        "**a)** ¿Qué país tiene el mayor valor de `indice` en toda la tabla resultante? ¿Y cuál tiene el menor (distinto de cero)?\n",
        "**b)** ¿Qué años presentan en promedio los valores de `indice` más altos? ¿Y los más bajos?\n",
        "\n",
        "> (Pista: usa `.mean(axis=0)` sobre la tabla pivot)\n",
        "\n",
        "**c)** ¿Qué país muestra mayor **variabilidad** (diferencia entre su máximo y mínimo `indice` a lo largo del tiempo)?\n",
        "\n",
        "> (Pista: aplica `.max(axis=1) - .min(axis=1)`)\n",
        "\n",
        "**d)** ¿Existen países con índice constante a lo largo de todos los años registrados? ¿Cuáles?\n",
        "\n",
        "**e)** ¿Qué países no tienen ningún dato (es decir, quedaron con todos los valores igual a 0)? ¿Podrías explicar por qué?\n",
        "\n",
        "\n",
        "\n"
      ]
    },
    {
      "cell_type": "code",
      "execution_count": null,
      "id": "c844a0a8",
      "metadata": {
        "id": "c844a0a8"
      },
      "outputs": [],
      "source": [
        "# FIX ME\n",
        "\n",
        "\n",
        "pivot = pd.pivot_table(\n",
        "    df, index='pais', columns='anio', values='indice',\n",
        "    aggfunc='max', fill_value=0\n",
        ")\n",
        "\n",
        "#a)\n",
        "max_pais = pivot.max(axis=1).idxmax()\n",
        "min_pais = pivot.replace(0, pd.NA).min(axis=1).idxmin()\n",
        "print(\"Mayor índice:\", max_pais, pivot.loc[max_pais].max())\n",
        "print(\"Menor índice distinto de 0:\", min_pais, pivot.loc[min_pais].replace(0, pd.NA).min())\n",
        "\n",
        "#b)\n",
        "promedios = pivot.mean(axis=0)\n",
        "promedios = pivot.mean(axis=0)\n",
        "print(\"Año con mayor promedio:\", promedios.idxmax(), promedios.max())\n",
        "print(\"Año con menor promedio:\", promedios.idxmin(), promedios.min())\n",
        "\n",
        "#c)\n",
        "variabilidad = pivot.max(axis=1) - pivot.min(axis=1)\n",
        "pais_var = variabilidad.idxmax()\n",
        "print(\"Mayor variabilidad:\", pais_var, variabilidad.max())\n",
        "\n",
        "#d)\n",
        "constantes = pivot.apply(lambda fila: fila.nunique() == 1, axis=1)\n",
        "print(\"Constantes:\", pivot.index[constantes].tolist())\n",
        "\n",
        "#e)\n",
        "todo_cero = pivot.eq(0).all(axis=1)\n",
        "print(\"Países con todo 0:\", pivot.index[todo_cero].tolist())"
      ]
    }
  ],
  "metadata": {
    "kernelspec": {
      "display_name": "Python 3 (ipykernel)",
      "language": "python",
      "name": "python3"
    },
    "language_info": {
      "codemirror_mode": {
        "name": "ipython",
        "version": 3
      },
      "file_extension": ".py",
      "mimetype": "text/x-python",
      "name": "python",
      "nbconvert_exporter": "python",
      "pygments_lexer": "ipython3",
      "version": "3.10.11"
    },
    "colab": {
      "provenance": []
    }
  },
  "nbformat": 4,
  "nbformat_minor": 5
}