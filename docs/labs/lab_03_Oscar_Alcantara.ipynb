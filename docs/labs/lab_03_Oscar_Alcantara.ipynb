{
  "cells": [
    {
      "cell_type": "markdown",
      "metadata": {
        "id": "FOHxxpHxZhBQ"
      },
      "source": [
        "<a href=\"https://colab.research.google.com/github/fralfaro/MAT281/blob/main/docs/labs/lab_03.ipynb\" target=\"_parent\"><img src=\"https://colab.research.google.com/assets/colab-badge.svg\" alt=\"Open In Colab\"/></a>\n",
        "\n",
        "\n",
        "# MAT281 - Laboratorio N°03\n",
        "\n"
      ]
    },
    {
      "cell_type": "markdown",
      "metadata": {
        "id": "icllhepwZhBR"
      },
      "source": [
        "\n",
        "\n",
        "**Objetivo**: Aplicar técnicas avanzadas de manipulación y análisis de datos con pandas sobre un conjunto real de datos de contenido de Netflix, reforzando buenas prácticas y métodos eficientes sin recurrir a `groupby`, `merge`, `pivot`, ni `join`.\n",
        "\n",
        "\n",
        "\n",
        "**Dataset**:\n",
        "\n",
        "Trabajaremos con el archivo `netflix_titles.csv`, que contiene información sobre los títulos disponibles en la plataforma Netflix hasta el año 2021.\n",
        "\n",
        "| Variable       | Clase     | Descripción                                                                 |\n",
        "|----------------|-----------|------------------------------------------------------------------------------|\n",
        "| show_id        | caracter  | Identificador único del título en el catálogo de Netflix.                   |\n",
        "| type           | caracter  | Tipo de contenido: 'Movie' o 'TV Show'.                                     |\n",
        "| title          | caracter  | Título del contenido.                                                       |\n",
        "| director       | caracter  | Nombre del director (puede ser nulo).                                       |\n",
        "| cast           | caracter  | Lista de actores principales (puede ser nulo).                              |\n",
        "| country        | caracter  | País o países donde se produjo el contenido.                                |\n",
        "| date_added     | fecha     | Fecha en la que el título fue agregado al catálogo de Netflix.              |\n",
        "| release_year   | entero    | Año de lanzamiento original del título.                                     |\n",
        "| rating         | caracter  | Clasificación por edad (por ejemplo: 'PG-13', 'TV-MA').                      |\n",
        "| duration       | caracter  | Duración del contenido (minutos o número de temporadas para series).        |\n",
        "| listed_in      | caracter  | Categorías o géneros en los que está clasificado el contenido.              |\n",
        "| description    | caracter  | Breve sinopsis del contenido.                                               |\n",
        "\n",
        "\n"
      ]
    },
    {
      "cell_type": "code",
      "execution_count": null,
      "metadata": {
        "id": "SuiQF0KEZhBS",
        "outputId": "26f4b9fc-82c8-4889-a9e6-13899aff586b"
      },
      "outputs": [
        {
          "data": {
            "text/html": [
              "<div>\n",
              "<style scoped>\n",
              "    .dataframe tbody tr th:only-of-type {\n",
              "        vertical-align: middle;\n",
              "    }\n",
              "\n",
              "    .dataframe tbody tr th {\n",
              "        vertical-align: top;\n",
              "    }\n",
              "\n",
              "    .dataframe thead th {\n",
              "        text-align: right;\n",
              "    }\n",
              "</style>\n",
              "<table border=\"1\" class=\"dataframe\">\n",
              "  <thead>\n",
              "    <tr style=\"text-align: right;\">\n",
              "      <th></th>\n",
              "      <th>show_id</th>\n",
              "      <th>type</th>\n",
              "      <th>title</th>\n",
              "      <th>director</th>\n",
              "      <th>cast</th>\n",
              "      <th>country</th>\n",
              "      <th>date_added</th>\n",
              "      <th>release_year</th>\n",
              "      <th>rating</th>\n",
              "      <th>duration</th>\n",
              "      <th>listed_in</th>\n",
              "      <th>description</th>\n",
              "    </tr>\n",
              "  </thead>\n",
              "  <tbody>\n",
              "    <tr>\n",
              "      <th>0</th>\n",
              "      <td>s1</td>\n",
              "      <td>Movie</td>\n",
              "      <td>Dick Johnson Is Dead</td>\n",
              "      <td>Kirsten Johnson</td>\n",
              "      <td>NaN</td>\n",
              "      <td>United States</td>\n",
              "      <td>September 25, 2021</td>\n",
              "      <td>2020</td>\n",
              "      <td>PG-13</td>\n",
              "      <td>90 min</td>\n",
              "      <td>Documentaries</td>\n",
              "      <td>As her father nears the end of his life, filmm...</td>\n",
              "    </tr>\n",
              "    <tr>\n",
              "      <th>1</th>\n",
              "      <td>s2</td>\n",
              "      <td>TV Show</td>\n",
              "      <td>Blood &amp; Water</td>\n",
              "      <td>NaN</td>\n",
              "      <td>Ama Qamata, Khosi Ngema, Gail Mabalane, Thaban...</td>\n",
              "      <td>South Africa</td>\n",
              "      <td>September 24, 2021</td>\n",
              "      <td>2021</td>\n",
              "      <td>TV-MA</td>\n",
              "      <td>2 Seasons</td>\n",
              "      <td>International TV Shows, TV Dramas, TV Mysteries</td>\n",
              "      <td>After crossing paths at a party, a Cape Town t...</td>\n",
              "    </tr>\n",
              "    <tr>\n",
              "      <th>2</th>\n",
              "      <td>s3</td>\n",
              "      <td>TV Show</td>\n",
              "      <td>Ganglands</td>\n",
              "      <td>Julien Leclercq</td>\n",
              "      <td>Sami Bouajila, Tracy Gotoas, Samuel Jouy, Nabi...</td>\n",
              "      <td>NaN</td>\n",
              "      <td>September 24, 2021</td>\n",
              "      <td>2021</td>\n",
              "      <td>TV-MA</td>\n",
              "      <td>1 Season</td>\n",
              "      <td>Crime TV Shows, International TV Shows, TV Act...</td>\n",
              "      <td>To protect his family from a powerful drug lor...</td>\n",
              "    </tr>\n",
              "    <tr>\n",
              "      <th>3</th>\n",
              "      <td>s4</td>\n",
              "      <td>TV Show</td>\n",
              "      <td>Jailbirds New Orleans</td>\n",
              "      <td>NaN</td>\n",
              "      <td>NaN</td>\n",
              "      <td>NaN</td>\n",
              "      <td>September 24, 2021</td>\n",
              "      <td>2021</td>\n",
              "      <td>TV-MA</td>\n",
              "      <td>1 Season</td>\n",
              "      <td>Docuseries, Reality TV</td>\n",
              "      <td>Feuds, flirtations and toilet talk go down amo...</td>\n",
              "    </tr>\n",
              "    <tr>\n",
              "      <th>4</th>\n",
              "      <td>s5</td>\n",
              "      <td>TV Show</td>\n",
              "      <td>Kota Factory</td>\n",
              "      <td>NaN</td>\n",
              "      <td>Mayur More, Jitendra Kumar, Ranjan Raj, Alam K...</td>\n",
              "      <td>India</td>\n",
              "      <td>September 24, 2021</td>\n",
              "      <td>2021</td>\n",
              "      <td>TV-MA</td>\n",
              "      <td>2 Seasons</td>\n",
              "      <td>International TV Shows, Romantic TV Shows, TV ...</td>\n",
              "      <td>In a city of coaching centers known to train I...</td>\n",
              "    </tr>\n",
              "  </tbody>\n",
              "</table>\n",
              "</div>"
            ],
            "text/plain": [
              "  show_id     type                  title         director  \\\n",
              "0      s1    Movie   Dick Johnson Is Dead  Kirsten Johnson   \n",
              "1      s2  TV Show          Blood & Water              NaN   \n",
              "2      s3  TV Show              Ganglands  Julien Leclercq   \n",
              "3      s4  TV Show  Jailbirds New Orleans              NaN   \n",
              "4      s5  TV Show           Kota Factory              NaN   \n",
              "\n",
              "                                                cast        country  \\\n",
              "0                                                NaN  United States   \n",
              "1  Ama Qamata, Khosi Ngema, Gail Mabalane, Thaban...   South Africa   \n",
              "2  Sami Bouajila, Tracy Gotoas, Samuel Jouy, Nabi...            NaN   \n",
              "3                                                NaN            NaN   \n",
              "4  Mayur More, Jitendra Kumar, Ranjan Raj, Alam K...          India   \n",
              "\n",
              "           date_added  release_year rating   duration  \\\n",
              "0  September 25, 2021          2020  PG-13     90 min   \n",
              "1  September 24, 2021          2021  TV-MA  2 Seasons   \n",
              "2  September 24, 2021          2021  TV-MA   1 Season   \n",
              "3  September 24, 2021          2021  TV-MA   1 Season   \n",
              "4  September 24, 2021          2021  TV-MA  2 Seasons   \n",
              "\n",
              "                                           listed_in  \\\n",
              "0                                      Documentaries   \n",
              "1    International TV Shows, TV Dramas, TV Mysteries   \n",
              "2  Crime TV Shows, International TV Shows, TV Act...   \n",
              "3                             Docuseries, Reality TV   \n",
              "4  International TV Shows, Romantic TV Shows, TV ...   \n",
              "\n",
              "                                         description  \n",
              "0  As her father nears the end of his life, filmm...  \n",
              "1  After crossing paths at a party, a Cape Town t...  \n",
              "2  To protect his family from a powerful drug lor...  \n",
              "3  Feuds, flirtations and toilet talk go down amo...  \n",
              "4  In a city of coaching centers known to train I...  "
            ]
          },
          "execution_count": 2,
          "metadata": {},
          "output_type": "execute_result"
        }
      ],
      "source": [
        "import pandas as pd\n",
        "\n",
        "# Cargar datos\n",
        "df = pd.read_csv('https://raw.githubusercontent.com/fralfaro/MAT281/main/docs/labs/data/netflix_titles.csv')\n",
        "df.head()"
      ]
    },
    {
      "cell_type": "markdown",
      "metadata": {
        "id": "cC6HlScrZhBS"
      },
      "source": [
        "\n",
        "### Parte 1: Limpieza y preparación\n",
        "\n",
        "1. Revisar y describir el dataset:\n",
        "\n",
        "   * ¿Cuántas filas y columnas tiene?\n",
        "   * ¿Qué tipos de datos hay?\n",
        "   * ¿Cuántos valores nulos hay por columna?\n",
        "\n",
        "2. Transformar la columna `date_added` a tipo fecha.\n",
        "\n",
        "3. Crear columnas auxiliares con `assign`:\n",
        "\n",
        "   * Año (`year_added`)\n",
        "   * Mes (`month_added`)\n",
        "\n"
      ]
    },
    {
      "cell_type": "code",
      "execution_count": null,
      "metadata": {
        "id": "0B38fxXsZhBT"
      },
      "outputs": [],
      "source": [
        "#FIXME"
      ]
    },
    {
      "cell_type": "markdown",
      "metadata": {
        "id": "o-gvSnNBZhBT"
      },
      "source": [
        "## Parte 2: Técnicas avanzadas de pandas\n",
        "\n",
        "4. Utilizar `.loc` para seleccionar películas (`type == 'Movie'`) que fueron agregadas después del año 2018.\n",
        "\n",
        "5. Utilizar `str.contains()` y `str.extract()`:\n",
        "\n",
        "   * Filtrar títulos que contienen la palabra 'love' (sin distinguir mayúsculas/minúsculas).\n",
        "   * Extraer la duración en minutos para las películas desde la columna `duration`.\n",
        "\n",
        "6. Aplicar `explode()` sobre la columna `listed_in` para obtener una fila por cada género.\n",
        "\n",
        "7. Obtener un top 10 de géneros más frecuentes utilizando `value_counts()`.\n",
        "\n",
        "8. Aplicar `where()` y `mask()` para marcar las películas de más de 120 minutos como contenido largo en una nueva columna.\n",
        "\n",
        "9. Utilizar `.loc` para filtrar películas que cumplen con:\n",
        "\n",
        "   * Más de 100 minutos de duración.\n",
        "   * Rating igual a `'R'`.\n",
        "   * País igual a `'United States'`.\n",
        "\n",
        "10. Utilizar `.style` para formatear visualmente el top 10 de películas más largas."
      ]
    },
    {
      "cell_type": "code",
      "execution_count": null,
      "metadata": {
        "id": "TEJQ4wj8ZhBU"
      },
      "outputs": [],
      "source": [
        "#FIXME"
      ]
    },
    {
      "cell_type": "markdown",
      "metadata": {
        "id": "E-3hzpzCZhBU"
      },
      "source": [
        "\n",
        "\n",
        "### Pregunta Desafío\n",
        "\n",
        "11. ¿Cuáles son las combinaciones más frecuentes de género y rating en el dataset?\n",
        "    (Sugerencia: utilizar `value_counts` con `subset=[\"genre\", \"rating\"]` después de aplicar `explode()`).\n",
        "\n",
        "\n",
        "\n",
        "### Bonus: Análisis de duplicados y limpieza\n",
        "\n",
        "12. ¿Existen películas con el mismo nombre (`title`) pero con distinto año de lanzamiento (`release_year`)?\n",
        "13. ¿Cuántos títulos únicos hay en total en la columna `title`?\n",
        "\n",
        "\n",
        "\n"
      ]
    },
    {
      "cell_type": "code",
      "execution_count": null,
      "metadata": {
        "id": "4OSrADpqZhBV"
      },
      "outputs": [],
      "source": [
        "#FIXME"
      ]
    }
  ],
  "metadata": {
    "kernelspec": {
      "display_name": "docs-py3.10",
      "language": "python",
      "name": "python3"
    },
    "language_info": {
      "codemirror_mode": {
        "name": "ipython",
        "version": 3
      },
      "file_extension": ".py",
      "mimetype": "text/x-python",
      "name": "python",
      "nbconvert_exporter": "python",
      "pygments_lexer": "ipython3",
      "version": "3.10.11"
    },
    "colab": {
      "provenance": []
    }
  },
  "nbformat": 4,
  "nbformat_minor": 0
}
