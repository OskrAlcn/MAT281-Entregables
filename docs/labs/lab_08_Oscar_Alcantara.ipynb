{
  "cells": [
    {
      "cell_type": "markdown",
      "metadata": {
        "id": "tN_lPhn4KMDr"
      },
      "source": [
        "<a href=\"https://colab.research.google.com/github/fralfaro/MAT281/blob/main/docs/labs/lab_08.ipynb\" target=\"_parent\"><img src=\"https://colab.research.google.com/assets/colab-badge.svg\" alt=\"Open In Colab\"/></a>\n",
        "\n",
        "\n",
        "# MAT281 - Laboratorio N°08\n",
        "\n",
        "**Objetivo**: Aplicar técnicas de **machine learning no supervisado** para explorar, procesar y analizar conjuntos de datos con variables numéricas y categóricas.\n",
        "\n",
        "> **Nota**: Puede ayudarse de algún asistente virtual como **ChatGPT, Gemini** u otros, así como del autocompletado de **Google Colab**, para avanzar en este laboratorio debido a su extensión.\n"
      ]
    },
    {
      "cell_type": "markdown",
      "metadata": {
        "id": "G71IkQGEKMDt"
      },
      "source": [
        "## Clustering\n",
        "\n",
        "\n",
        "<img src=\"https://www.svgrepo.com/show/253022/car.svg\" width = \"300\" align=\"center\"/>\n",
        "\n",
        "\n",
        "\n",
        "El conjunto de datos **`vehiculos_procesado_con_grupos.csv`** recopila información sobre diversas características relevantes de distintos vehículos. El propósito de este ejercicio es **clasificar los vehículos en diferentes categorías**, utilizando como base las variables descritas en la tabla de atributos.\n",
        "\n",
        "El análisis presenta un desafío adicional debido a la **naturaleza mixta de los datos**: se incluyen tanto variables **numéricas** (ej. dimensiones, consumo, emisiones) como **categóricas** (ej. tipo de tracción, tipo de combustible), lo que requiere aplicar técnicas de preprocesamiento adecuadas antes de entrenar los modelos.\n",
        "\n",
        "Como primer paso, procederemos a **cargar y explorar el conjunto de datos**, con el fin de familiarizarnos con su estructura y las características que servirán como base para la posterior clasificación.\n"
      ]
    },
    {
      "cell_type": "markdown",
      "metadata": {
        "id": "bICZIHKYKMDt"
      },
      "source": [
        "\n",
        "\n",
        "**Descripción de los Datos:**\n",
        "\n",
        "| **Nombre de la Columna**   | **Descripción**                                                                                                                                   |\n",
        "|----------------------------|---------------------------------------------------------------------------------------------------------------------------------------------------|\n",
        "| **year**                   | El año en que el vehículo fue fabricado.                                                                                                          |\n",
        "| **desplazamiento**          | La capacidad volumétrica del motor en litros. Indica la cantidad de aire y combustible que puede desplazar el motor durante una revolución.       |\n",
        "| **cilindros**               | El número de cilindros que tiene el motor. Los cilindros son las cámaras donde ocurre la combustión interna en los motores de los vehículos.       |\n",
        "| **co2**                     | Emisiones de dióxido de carbono del vehículo, medido en gramos por kilómetro. Es una medida de las emisiones de gases de efecto invernadero.       |\n",
        "| **clase_tipo**              | La clase o tipo de vehículo, como vehículos especiales, deportivos, etc.                                                                         |\n",
        "| **traccion_tipo**           | Tipo de tracción del vehículo, ya sea tracción en dos ruedas, en cuatro ruedas o en todas las ruedas.                                             |\n",
        "| **transmision_tipo**        | Tipo de transmisión del vehículo, como automática, manual, entre otros.                                                                          |\n",
        "| **combustible_tipo**        | Tipo de combustible que utiliza el vehículo, como gasolina, diésel, eléctrico, híbrido, etc.                                                     |\n",
        "| **tamano_motor_tipo**       | Clasificación del tamaño del motor (por ejemplo, pequeño, mediano o grande), que generalmente se basa en la capacidad de desplazamiento.           |\n",
        "| **consumo_tipo**            | Clasificación del nivel de consumo de combustible del vehículo, indicando si es alto, bajo, o muy alto.                                           |\n",
        "| **co2_tipo**                | Clasificación de las emisiones de CO2 del vehículo, indicando si es alto, bajo, o muy alto.                                                       |\n",
        "| **consumo_litros_milla**    | El consumo de combustible del vehículo, medido en litros por milla. Indica la eficiencia del vehículo en términos de consumo de combustible.        |\n",
        "\n"
      ]
    },
    {
      "cell_type": "code",
      "execution_count": null,
      "metadata": {
        "id": "AxhPgNj-KMDu"
      },
      "outputs": [],
      "source": [
        "import numpy as np\n",
        "import pandas as pd\n",
        "import matplotlib.pyplot as plt\n",
        "import seaborn as sns\n",
        "\n",
        "from sklearn.preprocessing import MinMaxScaler\n",
        "from sklearn.dummy import DummyClassifier\n",
        "from sklearn.cluster import KMeans\n",
        "\n",
        "\n",
        "%matplotlib inline\n",
        "\n",
        "sns.set_palette(\"deep\", desat=.6)\n",
        "sns.set(rc={'figure.figsize':(11.7,8.27)})"
      ]
    },
    {
      "cell_type": "code",
      "execution_count": null,
      "metadata": {
        "id": "u-GdlB57KMDu",
        "outputId": "8c70add0-c804-40f5-86df-0449a15a8e8a"
      },
      "outputs": [
        {
          "data": {
            "text/html": [
              "<div>\n",
              "<style scoped>\n",
              "    .dataframe tbody tr th:only-of-type {\n",
              "        vertical-align: middle;\n",
              "    }\n",
              "\n",
              "    .dataframe tbody tr th {\n",
              "        vertical-align: top;\n",
              "    }\n",
              "\n",
              "    .dataframe thead th {\n",
              "        text-align: right;\n",
              "    }\n",
              "</style>\n",
              "<table border=\"1\" class=\"dataframe\">\n",
              "  <thead>\n",
              "    <tr style=\"text-align: right;\">\n",
              "      <th></th>\n",
              "      <th>year</th>\n",
              "      <th>desplazamiento</th>\n",
              "      <th>cilindros</th>\n",
              "      <th>co2</th>\n",
              "      <th>clase_tipo</th>\n",
              "      <th>traccion_tipo</th>\n",
              "      <th>transmision_tipo</th>\n",
              "      <th>combustible_tipo</th>\n",
              "      <th>tamano_motor_tipo</th>\n",
              "      <th>consumo_tipo</th>\n",
              "      <th>co2_tipo</th>\n",
              "      <th>consumo_litros_milla</th>\n",
              "    </tr>\n",
              "  </thead>\n",
              "  <tbody>\n",
              "    <tr>\n",
              "      <th>0</th>\n",
              "      <td>1984</td>\n",
              "      <td>2.5</td>\n",
              "      <td>4.0</td>\n",
              "      <td>522.764706</td>\n",
              "      <td>Vehículos Especiales</td>\n",
              "      <td>dos</td>\n",
              "      <td>Automatica</td>\n",
              "      <td>Normal</td>\n",
              "      <td>pequeño</td>\n",
              "      <td>alto</td>\n",
              "      <td>alto</td>\n",
              "      <td>0.222671</td>\n",
              "    </tr>\n",
              "    <tr>\n",
              "      <th>1</th>\n",
              "      <td>1984</td>\n",
              "      <td>4.2</td>\n",
              "      <td>6.0</td>\n",
              "      <td>683.615385</td>\n",
              "      <td>Vehículos Especiales</td>\n",
              "      <td>dos</td>\n",
              "      <td>Automatica</td>\n",
              "      <td>Normal</td>\n",
              "      <td>grande</td>\n",
              "      <td>muy alto</td>\n",
              "      <td>muy alto</td>\n",
              "      <td>0.291185</td>\n",
              "    </tr>\n",
              "    <tr>\n",
              "      <th>2</th>\n",
              "      <td>1985</td>\n",
              "      <td>2.5</td>\n",
              "      <td>4.0</td>\n",
              "      <td>555.437500</td>\n",
              "      <td>Vehículos Especiales</td>\n",
              "      <td>dos</td>\n",
              "      <td>Automatica</td>\n",
              "      <td>Normal</td>\n",
              "      <td>pequeño</td>\n",
              "      <td>alto</td>\n",
              "      <td>alto</td>\n",
              "      <td>0.236588</td>\n",
              "    </tr>\n",
              "    <tr>\n",
              "      <th>3</th>\n",
              "      <td>1985</td>\n",
              "      <td>4.2</td>\n",
              "      <td>6.0</td>\n",
              "      <td>683.615385</td>\n",
              "      <td>Vehículos Especiales</td>\n",
              "      <td>dos</td>\n",
              "      <td>Automatica</td>\n",
              "      <td>Normal</td>\n",
              "      <td>grande</td>\n",
              "      <td>muy alto</td>\n",
              "      <td>muy alto</td>\n",
              "      <td>0.291185</td>\n",
              "    </tr>\n",
              "    <tr>\n",
              "      <th>4</th>\n",
              "      <td>1987</td>\n",
              "      <td>3.8</td>\n",
              "      <td>6.0</td>\n",
              "      <td>555.437500</td>\n",
              "      <td>Coches Medianos</td>\n",
              "      <td>dos</td>\n",
              "      <td>Automatica</td>\n",
              "      <td>Premium</td>\n",
              "      <td>grande</td>\n",
              "      <td>alto</td>\n",
              "      <td>alto</td>\n",
              "      <td>0.236588</td>\n",
              "    </tr>\n",
              "  </tbody>\n",
              "</table>\n",
              "</div>"
            ],
            "text/plain": [
              "   year  desplazamiento  cilindros         co2            clase_tipo  \\\n",
              "0  1984             2.5        4.0  522.764706  Vehículos Especiales   \n",
              "1  1984             4.2        6.0  683.615385  Vehículos Especiales   \n",
              "2  1985             2.5        4.0  555.437500  Vehículos Especiales   \n",
              "3  1985             4.2        6.0  683.615385  Vehículos Especiales   \n",
              "4  1987             3.8        6.0  555.437500       Coches Medianos   \n",
              "\n",
              "  traccion_tipo transmision_tipo combustible_tipo tamano_motor_tipo  \\\n",
              "0           dos       Automatica           Normal           pequeño   \n",
              "1           dos       Automatica           Normal            grande   \n",
              "2           dos       Automatica           Normal           pequeño   \n",
              "3           dos       Automatica           Normal            grande   \n",
              "4           dos       Automatica          Premium            grande   \n",
              "\n",
              "  consumo_tipo  co2_tipo  consumo_litros_milla  \n",
              "0         alto      alto              0.222671  \n",
              "1     muy alto  muy alto              0.291185  \n",
              "2         alto      alto              0.236588  \n",
              "3     muy alto  muy alto              0.291185  \n",
              "4         alto      alto              0.236588  "
            ]
          },
          "execution_count": 5,
          "metadata": {},
          "output_type": "execute_result"
        }
      ],
      "source": [
        "# cargar datos\n",
        "df = pd.read_csv(\"https://raw.githubusercontent.com/fralfaro/MAT281/main/docs/labs/data/vehiculos_procesado_con_grupos.csv\", sep=\",\")\\\n",
        "       .drop(\n",
        "            [\"fabricante\",\n",
        "             \"modelo\",\n",
        "             \"transmision\",\n",
        "             \"traccion\",\n",
        "             \"clase\",\n",
        "             \"combustible\",\n",
        "             \"consumo\"],\n",
        "\n",
        "          axis=1)\n",
        "\n",
        "df.head()"
      ]
    },
    {
      "cell_type": "markdown",
      "metadata": {
        "id": "sRXhhioQKMDv"
      },
      "source": [
        "En este caso, no solo se tienen datos numéricos, sino que también categóricos. Además, tenemos problemas de datos **vacíos (Nan)**. Así que para resolver este problema, seguiremos varios pasos:\n",
        "\n",
        "### 1.- Normalizar datos\n",
        "\n",
        "- Cree un conjunto de datos con las variables numéricas, además, para cada dato vacía, rellene con el promedio asociado a esa columna. Finalmente, normalize los datos mediante el procesamiento **MinMaxScaler** de **sklearn**.\n",
        "- Cree un conjunto de datos con las variables categóricas , además, transforme de variables categoricas a numericas ocupando el comando **get_dummies** de pandas ([referencia](https://pandas.pydata.org/pandas-docs/stable/reference/api/pandas.get_dummies.html)). Explique a grande rasgo como se realiza la codificación de variables numéricas a categóricas.\n",
        "\n",
        "- Junte ambos dataset en uno, llamado **df_procesado**."
      ]
    },
    {
      "cell_type": "code",
      "execution_count": null,
      "metadata": {
        "id": "-EBMZ4BIKMDw"
      },
      "outputs": [],
      "source": [
        "# FIXME"
      ]
    },
    {
      "cell_type": "markdown",
      "metadata": {
        "id": "Kopzk7oiKMDw"
      },
      "source": [
        "### 2.- Realizar ajuste mediante kmeans\n",
        "\n",
        "Una vez depurado el conjunto de datos, es momento de aplicar el algoritmo de **kmeans**.\n",
        "\n",
        "1. Ajuste el modelo de **kmeans** sobre el conjunto de datos, con un total de **8 clusters**.\n",
        "2. Asociar a cada individuo el correspondiente cluster y calcular valor de los centroides de cada cluster.\n",
        "3. Realizar un resumen de las principales cualidades de cada cluster. Para  esto debe calcular (para cluster) las siguientes medidas de resumen:\n",
        "    * Valor promedio de las variables numérica\n",
        "    * Moda para las variables numericas"
      ]
    },
    {
      "cell_type": "code",
      "execution_count": null,
      "metadata": {
        "id": "N-lSdLq-KMDx"
      },
      "outputs": [],
      "source": [
        "# FIXME"
      ]
    },
    {
      "cell_type": "markdown",
      "metadata": {
        "id": "xPR46v5-KMDx"
      },
      "source": [
        "### 3.- Elegir Número de cluster\n",
        "\n",
        "Estime mediante la **regla del codo**, el número de cluster apropiados para el caso.\n",
        "Para efectos prácticos, eliga la siguiente secuencia como número de clusters a comparar:\n",
        "\n",
        "$$[5, 10, 20, 30, 50, 75, 100, 200, 300]$$\n",
        "\n",
        "Una vez realizado el gráfico, saque sus propias conclusiones del caso."
      ]
    },
    {
      "cell_type": "code",
      "execution_count": null,
      "metadata": {
        "id": "jG0ugO_sKMDy"
      },
      "outputs": [],
      "source": [
        "# FIXME"
      ]
    },
    {
      "cell_type": "markdown",
      "metadata": {
        "id": "70yYdPvuKMDy"
      },
      "source": [
        "Al observar el gráfico resultante, se pueden obtener conclusiones sobre el número apropiado de clusters. La regla del codo sugiere elegir el número de clusters donde la reducción en la inercia se estabiliza significativamente. En otras palabras, se busca el punto en el gráfico donde la curva de inercia comienza a aplanarse o forma un codo."
      ]
    },
    {
      "cell_type": "markdown",
      "metadata": {
        "id": "0e8KpT9XKMDy"
      },
      "source": [
        "## Reducción de Dimensionalidad\n",
        "\n",
        "<img src=\"https://1000logos.net/wp-content/uploads/2020/11/Wine-Logo-old.png\" width = \"300\" align=\"center\"/>\n",
        "\n",
        "\n",
        "Para este ejercicio utilizaremos el **Wine Dataset**, un conjunto de datos clásico disponible en la librería **scikit-learn** y en el repositorio de la **UCI Machine Learning**.\n",
        "Este dataset contiene información de **178 muestras de vino** provenientes de la región italiana de *Piamonte*. Cada vino pertenece a una de **tres variedades de uva** (*clases*), que actúan como etiquetas para el análisis supervisado, pero aquí se usarán solo como referencia en la visualización.\n",
        "\n",
        "Cada muestra está descrita por **13 variables químicas** obtenidas de un análisis de laboratorio, entre ellas:\n",
        "\n",
        "* **Alcohol**: porcentaje de alcohol en el vino.\n",
        "* **Malic acid**: concentración de ácido málico.\n",
        "* **Ash**: contenido de ceniza.\n",
        "* **Alcalinity of ash**: alcalinidad de la ceniza.\n",
        "* **Magnesium**: cantidad de magnesio (mg/L).\n",
        "* **Total phenols**: concentración total de fenoles.\n",
        "* **Flavanoids**: tipo de fenoles con propiedades antioxidantes.\n",
        "* **Nonflavanoid phenols**: fenoles que no son flavonoides.\n",
        "* **Proanthocyanins**: compuestos relacionados con el color y el sabor.\n",
        "* **Color intensity**: intensidad del color del vino.\n",
        "* **Hue**: matiz del color.\n",
        "* **OD280/OD315 of diluted wines**: relación de absorbancia que mide la calidad del vino.\n",
        "* **Proline**: concentración de prolina (un aminoácido).\n",
        "\n",
        "Estas características permiten representar cada vino como un punto en un espacio de **13 dimensiones**.\n",
        "\n",
        "El objetivo del análisis con este dataset es **reducir la dimensionalidad** para visualizar y explorar patrones en los datos. Para ello aplicaremos:\n",
        "\n",
        "* **PCA (Principal Component Analysis):** identificar las combinaciones lineales de variables que explican la mayor varianza en el conjunto.\n",
        "* **t-SNE (t-distributed Stochastic Neighbor Embedding):** mapear las muestras a 2D o 3D, preservando relaciones de vecindad y estructuras no lineales.\n",
        "\n",
        "La comparación entre ambas técnicas permitirá observar cómo las tres clases de vinos se diferencian en el espacio reducido y discutir la utilidad de la reducción de dimensionalidad en datos con mayor número de variables que en el caso del dataset *Wine*.\n",
        "\n"
      ]
    },
    {
      "cell_type": "code",
      "execution_count": null,
      "metadata": {
        "id": "GITtNYqjKMDz"
      },
      "outputs": [],
      "source": [
        "import pandas as pd\n",
        "from sklearn.datasets import load_wine\n",
        "from sklearn.decomposition import PCA\n",
        "from sklearn.manifold import TSNE\n",
        "\n",
        "import matplotlib.pyplot as plt\n",
        "from matplotlib.colors import ListedColormap\n",
        "from mpl_toolkits.mplot3d import Axes3D\n",
        "import seaborn as sns"
      ]
    },
    {
      "cell_type": "code",
      "execution_count": null,
      "metadata": {
        "id": "gn-W2JEaKMDz",
        "outputId": "2ed8b155-49ca-486b-9711-66dd1bd33d0c"
      },
      "outputs": [
        {
          "data": {
            "text/html": [
              "<div>\n",
              "<style scoped>\n",
              "    .dataframe tbody tr th:only-of-type {\n",
              "        vertical-align: middle;\n",
              "    }\n",
              "\n",
              "    .dataframe tbody tr th {\n",
              "        vertical-align: top;\n",
              "    }\n",
              "\n",
              "    .dataframe thead th {\n",
              "        text-align: right;\n",
              "    }\n",
              "</style>\n",
              "<table border=\"1\" class=\"dataframe\">\n",
              "  <thead>\n",
              "    <tr style=\"text-align: right;\">\n",
              "      <th></th>\n",
              "      <th>alcohol</th>\n",
              "      <th>malic_acid</th>\n",
              "      <th>ash</th>\n",
              "      <th>alcalinity_of_ash</th>\n",
              "      <th>magnesium</th>\n",
              "      <th>total_phenols</th>\n",
              "      <th>flavanoids</th>\n",
              "      <th>nonflavanoid_phenols</th>\n",
              "      <th>proanthocyanins</th>\n",
              "      <th>color_intensity</th>\n",
              "      <th>hue</th>\n",
              "      <th>od280/od315_of_diluted_wines</th>\n",
              "      <th>proline</th>\n",
              "      <th>wine_class</th>\n",
              "    </tr>\n",
              "  </thead>\n",
              "  <tbody>\n",
              "    <tr>\n",
              "      <th>0</th>\n",
              "      <td>14.23</td>\n",
              "      <td>1.71</td>\n",
              "      <td>2.43</td>\n",
              "      <td>15.6</td>\n",
              "      <td>127.0</td>\n",
              "      <td>2.80</td>\n",
              "      <td>3.06</td>\n",
              "      <td>0.28</td>\n",
              "      <td>2.29</td>\n",
              "      <td>5.64</td>\n",
              "      <td>1.04</td>\n",
              "      <td>3.92</td>\n",
              "      <td>1065.0</td>\n",
              "      <td>0</td>\n",
              "    </tr>\n",
              "    <tr>\n",
              "      <th>1</th>\n",
              "      <td>13.20</td>\n",
              "      <td>1.78</td>\n",
              "      <td>2.14</td>\n",
              "      <td>11.2</td>\n",
              "      <td>100.0</td>\n",
              "      <td>2.65</td>\n",
              "      <td>2.76</td>\n",
              "      <td>0.26</td>\n",
              "      <td>1.28</td>\n",
              "      <td>4.38</td>\n",
              "      <td>1.05</td>\n",
              "      <td>3.40</td>\n",
              "      <td>1050.0</td>\n",
              "      <td>0</td>\n",
              "    </tr>\n",
              "    <tr>\n",
              "      <th>2</th>\n",
              "      <td>13.16</td>\n",
              "      <td>2.36</td>\n",
              "      <td>2.67</td>\n",
              "      <td>18.6</td>\n",
              "      <td>101.0</td>\n",
              "      <td>2.80</td>\n",
              "      <td>3.24</td>\n",
              "      <td>0.30</td>\n",
              "      <td>2.81</td>\n",
              "      <td>5.68</td>\n",
              "      <td>1.03</td>\n",
              "      <td>3.17</td>\n",
              "      <td>1185.0</td>\n",
              "      <td>0</td>\n",
              "    </tr>\n",
              "    <tr>\n",
              "      <th>3</th>\n",
              "      <td>14.37</td>\n",
              "      <td>1.95</td>\n",
              "      <td>2.50</td>\n",
              "      <td>16.8</td>\n",
              "      <td>113.0</td>\n",
              "      <td>3.85</td>\n",
              "      <td>3.49</td>\n",
              "      <td>0.24</td>\n",
              "      <td>2.18</td>\n",
              "      <td>7.80</td>\n",
              "      <td>0.86</td>\n",
              "      <td>3.45</td>\n",
              "      <td>1480.0</td>\n",
              "      <td>0</td>\n",
              "    </tr>\n",
              "    <tr>\n",
              "      <th>4</th>\n",
              "      <td>13.24</td>\n",
              "      <td>2.59</td>\n",
              "      <td>2.87</td>\n",
              "      <td>21.0</td>\n",
              "      <td>118.0</td>\n",
              "      <td>2.80</td>\n",
              "      <td>2.69</td>\n",
              "      <td>0.39</td>\n",
              "      <td>1.82</td>\n",
              "      <td>4.32</td>\n",
              "      <td>1.04</td>\n",
              "      <td>2.93</td>\n",
              "      <td>735.0</td>\n",
              "      <td>0</td>\n",
              "    </tr>\n",
              "  </tbody>\n",
              "</table>\n",
              "</div>"
            ],
            "text/plain": [
              "   alcohol  malic_acid   ash  alcalinity_of_ash  magnesium  total_phenols  \\\n",
              "0    14.23        1.71  2.43               15.6      127.0           2.80   \n",
              "1    13.20        1.78  2.14               11.2      100.0           2.65   \n",
              "2    13.16        2.36  2.67               18.6      101.0           2.80   \n",
              "3    14.37        1.95  2.50               16.8      113.0           3.85   \n",
              "4    13.24        2.59  2.87               21.0      118.0           2.80   \n",
              "\n",
              "   flavanoids  nonflavanoid_phenols  proanthocyanins  color_intensity   hue  \\\n",
              "0        3.06                  0.28             2.29             5.64  1.04   \n",
              "1        2.76                  0.26             1.28             4.38  1.05   \n",
              "2        3.24                  0.30             2.81             5.68  1.03   \n",
              "3        3.49                  0.24             2.18             7.80  0.86   \n",
              "4        2.69                  0.39             1.82             4.32  1.04   \n",
              "\n",
              "   od280/od315_of_diluted_wines  proline  wine_class  \n",
              "0                          3.92   1065.0           0  \n",
              "1                          3.40   1050.0           0  \n",
              "2                          3.17   1185.0           0  \n",
              "3                          3.45   1480.0           0  \n",
              "4                          2.93    735.0           0  "
            ]
          },
          "execution_count": 4,
          "metadata": {},
          "output_type": "execute_result"
        }
      ],
      "source": [
        "# cargar dataset\n",
        "dataset = load_wine()\n",
        "\n",
        "# nombres de las variables\n",
        "features = dataset.feature_names\n",
        "target = 'wine_class'\n",
        "\n",
        "# construir DataFrame\n",
        "wine = pd.DataFrame(dataset.data, columns=features)\n",
        "wine[target] = dataset.target\n",
        "\n",
        "# ver primeras filas\n",
        "wine.head()"
      ]
    },
    {
      "cell_type": "markdown",
      "metadata": {
        "id": "lRkE4iNuKMDz"
      },
      "source": [
        "\n",
        "\n",
        "### 1. **Análisis detallado con PCA**\n",
        "\n",
        "* Calcular la **varianza explicada** por cada componente principal y representar el gráfico de varianza acumulada, identificando cuántos componentes son necesarios para capturar al menos el **90–95% de la información**.\n",
        "* Construir tablas y gráficos que muestren cómo las observaciones (vinos) se proyectan en las primeras componentes principales.\n",
        "* Analizar los **loadings** (coeficientes de cada variable en los componentes) e interpretar qué características químicas del vino (alcohol, fenoles, color, etc.) tienen mayor influencia en las nuevas dimensiones.\n",
        "* Visualizar los datos reducidos a 2D o 3D e interpretar si las **tres variedades de vino** se separan de forma clara en el espacio proyectado.\n",
        "\n"
      ]
    },
    {
      "cell_type": "code",
      "execution_count": null,
      "metadata": {
        "id": "liN3VObKKMD0"
      },
      "outputs": [],
      "source": [
        "# FIXME"
      ]
    },
    {
      "cell_type": "markdown",
      "metadata": {
        "id": "ol3VKDbuKMD0"
      },
      "source": [
        "\n",
        "\n",
        "### 2. **Análisis detallado con t-SNE**\n",
        "\n",
        "* Aplicar **t-SNE** para reducir los datos a 2 dimensiones, probando diferentes configuraciones de hiperparámetros como *perplexity* y *learning rate*.\n",
        "* Comparar las distintas visualizaciones obtenidas y discutir cómo los hiperparámetros afectan la estructura de los clústeres.\n",
        "* Analizar si las **tres clases de vinos** forman agrupaciones definidas y si t-SNE logra capturar relaciones no lineales que PCA no refleja.\n",
        "\n"
      ]
    },
    {
      "cell_type": "code",
      "execution_count": null,
      "metadata": {
        "id": "s5S05_bHKMD1"
      },
      "outputs": [],
      "source": [
        "# FIXME"
      ]
    },
    {
      "cell_type": "markdown",
      "metadata": {
        "id": "OOFrQcvWKMD1"
      },
      "source": [
        "\n",
        "\n",
        "### 3. **Comparación entre PCA y t-SNE**\n",
        "\n",
        "* Contrastar las visualizaciones y discutir las **ventajas y limitaciones** de cada técnica:\n",
        "\n",
        "  * PCA como método **lineal** para interpretar varianza y relaciones globales.\n",
        "  * t-SNE como método **no lineal** que preserva relaciones locales y vecindades.\n",
        "* Evaluar en qué escenarios prácticos sería más recomendable usar PCA (interpretabilidad, reducción previa para modelos) o t-SNE (exploración y visualización de clústeres).\n",
        "* Reflexionar sobre la **importancia de la reducción de dimensionalidad** en datasets de alta dimensión como Wine, destacando su utilidad para:\n",
        "\n",
        "  * Visualizar patrones ocultos en los datos.\n",
        "  * Reducir complejidad y ruido antes de aplicar algoritmos de aprendizaje automático.\n",
        "  * Facilitar la interpretación y comunicación de resultados.\n",
        "\n"
      ]
    },
    {
      "cell_type": "code",
      "execution_count": null,
      "metadata": {
        "id": "i7hf4KViKMD1"
      },
      "outputs": [],
      "source": [
        "# FIXME"
      ]
    }
  ],
  "metadata": {
    "kernelspec": {
      "display_name": "docs-py3.10",
      "language": "python",
      "name": "python3"
    },
    "language_info": {
      "codemirror_mode": {
        "name": "ipython",
        "version": 3
      },
      "file_extension": ".py",
      "mimetype": "text/x-python",
      "name": "python",
      "nbconvert_exporter": "python",
      "pygments_lexer": "ipython3",
      "version": "3.10.11"
    },
    "colab": {
      "provenance": []
    }
  },
  "nbformat": 4,
  "nbformat_minor": 0
}