{
  "cells": [
    {
      "cell_type": "markdown",
      "id": "073b048d",
      "metadata": {
        "id": "073b048d"
      },
      "source": [
        "<a href=\"https://colab.research.google.com/github/fralfaro/MAT281/blob/main/docs/labs/lab_07.ipynb\" target=\"_parent\"><img src=\"https://colab.research.google.com/assets/colab-badge.svg\" alt=\"Open In Colab\"/></a>\n",
        "\n",
        "# MAT281 - Laboratorio N°07\n",
        "\n",
        "**Objetivo**: Aplicar técnicas básicas de **Machine Learning** (tanto regresión como clasificación), desde la preparación de datos hasta el entrenamiento y evaluación de modelos.\n",
        "\n",
        "> **Nota**: Puede ayudarse de algún asistente virtual como **ChatGPT, Gemini** u otros, así como del autocompletado de **Google Colab**, para avanzar en este laboratorio debido a su extensión.\n",
        "\n",
        "\n",
        "\n",
        "## Regresión\n",
        "\n",
        "\n",
        "<img src=\"https://cdn-icons-png.flaticon.com/512/2400/2400362.png\" width = \"300\" align=\"center\"/>\n"
      ]
    },
    {
      "cell_type": "markdown",
      "id": "a2053628",
      "metadata": {
        "id": "a2053628"
      },
      "source": [
        "Los datos utilizados corresponden a propiedades localizadas en un distrito específico de California, junto con algunas estadísticas resumen extraídas del censo de 1990. Es importante tener en cuenta que los datos no han sido procesados previamente, por lo que será necesario realizar algunas etapas de limpieza y preprocesamiento.\n",
        "\n",
        "Las columnas incluidas en el conjunto de datos son las siguientes (sus nombres son descriptivos):\n",
        "\n",
        "* **longitude**: Longitud geográfica de la propiedad.\n",
        "* **latitude**: Latitud geográfica de la propiedad.\n",
        "* **housingmedianage**: Edad media de las viviendas en la zona.\n",
        "* **total_rooms**: Número total de habitaciones.\n",
        "* **total_bedrooms**: Número total de dormitorios.\n",
        "* **population**: Población en el área circundante.\n",
        "* **households**: Número de hogares en la zona.\n",
        "* **median_income**: Ingreso medio por hogar.\n",
        "* **medianhousevalue**: Valor medio de la propiedad.\n",
        "* **ocean_proximity**: Proximidad al océano.\n",
        "\n",
        "El objetivo de este análisis es predecir el valor medio de las propiedades utilizando las características proporcionadas.\n",
        "\n",
        "Para completar este laboratorio, se recomienda seguir la siguiente rúbrica de trabajo:\n",
        "\n",
        "1. **Definición del problema**: Clarificar el objetivo del análisis y los resultados esperados.\n",
        "2. **Estadística descriptiva**: Resumir las principales características de los datos a través de medidas estadísticas.\n",
        "3. **Visualización descriptiva**: Utilizar gráficos para explorar los datos y sus relaciones.\n",
        "4. **Preprocesamiento**: Realizar los pasos necesarios de limpieza y transformación de los datos.\n",
        "5. **Selección de modelo**: Comparar al menos cuatro modelos de predicción diferentes.\n",
        "6. **Métricas y análisis de resultados**: Evaluar el rendimiento de los modelos utilizando métricas apropiadas.\n",
        "7. **Visualización de resultados del modelo**: Crear gráficos que muestren el desempeño de los modelos.\n",
        "8. **Conclusiones**: Resumir los hallazgos del análisis.\n",
        "\n",
        "> **Nota**: Se anima a los estudiantes a desarrollar un análisis más profundo si lo desean. Pueden consultar como referencia el siguiente [enlace](https://www.kaggle.com/camnugent/california-housing-prices)."
      ]
    },
    {
      "cell_type": "code",
      "execution_count": null,
      "id": "cf950d11",
      "metadata": {
        "id": "cf950d11"
      },
      "outputs": [],
      "source": [
        "import pandas as pd\n",
        "import numpy as np\n",
        "import matplotlib.pyplot as plt\n",
        "import seaborn as sns"
      ]
    },
    {
      "cell_type": "code",
      "execution_count": null,
      "id": "38f1f3e7",
      "metadata": {
        "id": "38f1f3e7"
      },
      "outputs": [],
      "source": [
        "from sklearn.metrics import mean_absolute_error, mean_squared_error\n",
        "\n",
        "def mean_absolute_percentage_error(y_true, y_pred):\n",
        "    return np.mean(np.abs((y_true - y_pred) / y_true)) * 100\n",
        "\n",
        "def regression_metrics(df):\n",
        "    \"\"\"\n",
        "    Aplicar las distintas métricas definidas\n",
        "    :param df: DataFrame con las columnas: ['y', 'yhat']\n",
        "    :return: DataFrame con las métricas especificadas\n",
        "    \"\"\"\n",
        "    df_result = pd.DataFrame()\n",
        "\n",
        "    y_true = df['y']\n",
        "    y_pred = df['yhat']\n",
        "\n",
        "    df_result['mae'] = [round(mean_absolute_error(y_true, y_pred), 4)]\n",
        "    df_result['mse'] = [round(mean_squared_error(y_true, y_pred), 4)]\n",
        "    df_result['rmse'] = [round(np.sqrt(mean_squared_error(y_true, y_pred)), 4)]\n",
        "    df_result['mape'] = [round(mean_absolute_percentage_error(y_true, y_pred), 4)]\n",
        "    df_result['smape'] = [round(2 * mean_absolute_percentage_error(y_true, y_pred) / (mean_absolute_percentage_error(y_true, y_pred) + 100), 4)]\n",
        "\n",
        "    return df_result"
      ]
    },
    {
      "cell_type": "code",
      "execution_count": null,
      "id": "a8fa5144",
      "metadata": {
        "id": "a8fa5144",
        "outputId": "75e34f23-29eb-4069-8498-80b195638038"
      },
      "outputs": [
        {
          "data": {
            "text/html": [
              "<div>\n",
              "<style scoped>\n",
              "    .dataframe tbody tr th:only-of-type {\n",
              "        vertical-align: middle;\n",
              "    }\n",
              "\n",
              "    .dataframe tbody tr th {\n",
              "        vertical-align: top;\n",
              "    }\n",
              "\n",
              "    .dataframe thead th {\n",
              "        text-align: right;\n",
              "    }\n",
              "</style>\n",
              "<table border=\"1\" class=\"dataframe\">\n",
              "  <thead>\n",
              "    <tr style=\"text-align: right;\">\n",
              "      <th></th>\n",
              "      <th>MedInc</th>\n",
              "      <th>HouseAge</th>\n",
              "      <th>AveRooms</th>\n",
              "      <th>AveBedrms</th>\n",
              "      <th>Population</th>\n",
              "      <th>AveOccup</th>\n",
              "      <th>Latitude</th>\n",
              "      <th>Longitude</th>\n",
              "      <th>target</th>\n",
              "    </tr>\n",
              "  </thead>\n",
              "  <tbody>\n",
              "    <tr>\n",
              "      <th>0</th>\n",
              "      <td>8.3252</td>\n",
              "      <td>41.0</td>\n",
              "      <td>6.984127</td>\n",
              "      <td>1.023810</td>\n",
              "      <td>322.0</td>\n",
              "      <td>2.555556</td>\n",
              "      <td>37.88</td>\n",
              "      <td>-122.23</td>\n",
              "      <td>4.526</td>\n",
              "    </tr>\n",
              "    <tr>\n",
              "      <th>1</th>\n",
              "      <td>8.3014</td>\n",
              "      <td>21.0</td>\n",
              "      <td>6.238137</td>\n",
              "      <td>0.971880</td>\n",
              "      <td>2401.0</td>\n",
              "      <td>2.109842</td>\n",
              "      <td>37.86</td>\n",
              "      <td>-122.22</td>\n",
              "      <td>3.585</td>\n",
              "    </tr>\n",
              "    <tr>\n",
              "      <th>2</th>\n",
              "      <td>7.2574</td>\n",
              "      <td>52.0</td>\n",
              "      <td>8.288136</td>\n",
              "      <td>1.073446</td>\n",
              "      <td>496.0</td>\n",
              "      <td>2.802260</td>\n",
              "      <td>37.85</td>\n",
              "      <td>-122.24</td>\n",
              "      <td>3.521</td>\n",
              "    </tr>\n",
              "    <tr>\n",
              "      <th>3</th>\n",
              "      <td>5.6431</td>\n",
              "      <td>52.0</td>\n",
              "      <td>5.817352</td>\n",
              "      <td>1.073059</td>\n",
              "      <td>558.0</td>\n",
              "      <td>2.547945</td>\n",
              "      <td>37.85</td>\n",
              "      <td>-122.25</td>\n",
              "      <td>3.413</td>\n",
              "    </tr>\n",
              "    <tr>\n",
              "      <th>4</th>\n",
              "      <td>3.8462</td>\n",
              "      <td>52.0</td>\n",
              "      <td>6.281853</td>\n",
              "      <td>1.081081</td>\n",
              "      <td>565.0</td>\n",
              "      <td>2.181467</td>\n",
              "      <td>37.85</td>\n",
              "      <td>-122.25</td>\n",
              "      <td>3.422</td>\n",
              "    </tr>\n",
              "  </tbody>\n",
              "</table>\n",
              "</div>"
            ],
            "text/plain": [
              "   MedInc  HouseAge  AveRooms  AveBedrms  Population  AveOccup  Latitude  \\\n",
              "0  8.3252      41.0  6.984127   1.023810       322.0  2.555556     37.88   \n",
              "1  8.3014      21.0  6.238137   0.971880      2401.0  2.109842     37.86   \n",
              "2  7.2574      52.0  8.288136   1.073446       496.0  2.802260     37.85   \n",
              "3  5.6431      52.0  5.817352   1.073059       558.0  2.547945     37.85   \n",
              "4  3.8462      52.0  6.281853   1.081081       565.0  2.181467     37.85   \n",
              "\n",
              "   Longitude  target  \n",
              "0    -122.23   4.526  \n",
              "1    -122.22   3.585  \n",
              "2    -122.24   3.521  \n",
              "3    -122.25   3.413  \n",
              "4    -122.25   3.422  "
            ]
          },
          "execution_count": 3,
          "metadata": {},
          "output_type": "execute_result"
        }
      ],
      "source": [
        "from sklearn.datasets import fetch_california_housing\n",
        "\n",
        "# Cargar los datos de housing\n",
        "housing_data = fetch_california_housing(as_frame=True)\n",
        "\n",
        "# Convertir los datos en un DataFrame de pandas\n",
        "housing = housing_data['data']\n",
        "housing['target'] = housing_data['target']\n",
        "\n",
        "# Visualizar las primeras filas del DataFrame\n",
        "housing.head()"
      ]
    },
    {
      "cell_type": "code",
      "execution_count": null,
      "id": "dece8d1c",
      "metadata": {
        "id": "dece8d1c"
      },
      "outputs": [],
      "source": [
        "# FIXME"
      ]
    },
    {
      "cell_type": "markdown",
      "id": "88a42f8d",
      "metadata": {
        "id": "88a42f8d"
      },
      "source": [
        "## Clasificación\n",
        "\n",
        "\n",
        "<img src=\"https://miro.medium.com/v2/resize:fit:372/0*EwdH1C6ThmpwY0Qo.png\" width = \"400\" align=\"center\"/>"
      ]
    },
    {
      "cell_type": "markdown",
      "id": "30e83e2f",
      "metadata": {
        "id": "30e83e2f"
      },
      "source": [
        "El objetivo de este proyecto es realizar la mejor predicción posible de las imágenes a partir de los datos disponibles. Para lograrlo, es necesario seguir los pasos habituales en un proyecto de _Machine Learning_, que incluyen la exploración estadística, la visualización y el preprocesamiento de los datos.\n",
        "\n",
        "Se solicita lo siguiente:\n",
        "\n",
        "* Ajustar al menos tres modelos de clasificación:\n",
        "    * Regresión logística.\n",
        "    * K-Nearest Neighbors.\n",
        "    * Un algoritmo adicional o más, de libre elección. Puedes consultar [esta lista de algoritmos](https://scikit-learn.org/stable/supervised_learning.html#supervised-learning) para obtener ideas.\n",
        "  \n",
        "* Realizar predicciones con cada uno de los tres modelos utilizando el conjunto de datos de _test_ y calcular sus respectivas puntuaciones (_score_).\n",
        "\n",
        "* Evaluar y analizar los resultados de los modelos utilizando las siguientes métricas de rendimiento:\n",
        "    * **Accuracy**\n",
        "    * **Precision**\n",
        "    * **Recall**\n",
        "    * **F1-score**"
      ]
    },
    {
      "cell_type": "markdown",
      "id": "ffabdb28",
      "metadata": {
        "id": "ffabdb28"
      },
      "source": [
        "### Exploración de los datos\n",
        "A continuación se carga el conjunto de datos a utilizar, a través del sub-módulo `datasets` de `sklearn`."
      ]
    },
    {
      "cell_type": "code",
      "execution_count": null,
      "id": "30308413",
      "metadata": {
        "id": "30308413"
      },
      "outputs": [],
      "source": [
        "import numpy as np\n",
        "import pandas as pd\n",
        "from sklearn import datasets\n",
        "import matplotlib.pyplot as plt\n",
        "\n",
        "%matplotlib inline"
      ]
    },
    {
      "cell_type": "code",
      "execution_count": null,
      "id": "d85a2069",
      "metadata": {
        "id": "d85a2069"
      },
      "outputs": [],
      "source": [
        "digits_dict = datasets.load_digits()\n",
        "print(digits_dict[\"DESCR\"])"
      ]
    },
    {
      "cell_type": "code",
      "execution_count": null,
      "id": "b3ddc4d5",
      "metadata": {
        "id": "b3ddc4d5"
      },
      "outputs": [],
      "source": [
        "# informacion de las columnas\n",
        "digits_dict.keys()"
      ]
    },
    {
      "cell_type": "code",
      "execution_count": null,
      "id": "d7624ddf",
      "metadata": {
        "id": "d7624ddf"
      },
      "outputs": [],
      "source": [
        "# informacion del target\n",
        "digits_dict[\"target\"]"
      ]
    },
    {
      "cell_type": "markdown",
      "id": "acaf4ec0",
      "metadata": {
        "id": "acaf4ec0"
      },
      "source": [
        "A continuación se crea dataframe declarado como `digits` con los datos de `digits_dict` tal que tenga 65 columnas, las 6 primeras a la representación de la imagen en escala de grises (0-blanco, 255-negro) y la última correspondiente al dígito (`target`) con el nombre _target_."
      ]
    },
    {
      "cell_type": "code",
      "execution_count": null,
      "id": "344b8874",
      "metadata": {
        "id": "344b8874"
      },
      "outputs": [],
      "source": [
        "# leer datos\n",
        "digits = (\n",
        "    pd.DataFrame(\n",
        "        digits_dict[\"data\"],\n",
        "    )\n",
        "    .rename(columns=lambda x: f\"c{x:02d}\")\n",
        "    .assign(target=digits_dict[\"target\"])\n",
        "    .astype(int)\n",
        ")\n",
        "\n",
        "digits.head()"
      ]
    },
    {
      "cell_type": "markdown",
      "id": "d8d31f8d",
      "metadata": {
        "id": "d8d31f8d"
      },
      "source": [
        "### Ejercicio 1\n",
        "**Análisis exploratorio:** Realiza tu análisis exploratorio, no debes olvidar nada! Recuerda, cada análisis debe responder una pregunta.\n",
        "\n",
        "Algunas sugerencias:\n",
        "\n",
        "* ¿Cómo se distribuyen los datos?\n",
        "* ¿Cuánta memoria estoy utilizando?\n",
        "* ¿Qué tipo de datos son?\n",
        "* ¿Cuántos registros por clase hay?\n",
        "* ¿Hay registros que no se correspondan con tu conocimiento previo de los datos?"
      ]
    },
    {
      "cell_type": "code",
      "execution_count": null,
      "id": "dba2c57d",
      "metadata": {
        "id": "dba2c57d"
      },
      "outputs": [],
      "source": [
        "# FIXME"
      ]
    },
    {
      "cell_type": "markdown",
      "id": "1b42d5e8",
      "metadata": {
        "id": "1b42d5e8"
      },
      "source": [
        "### Ejercicio 2\n",
        "**Visualización:** Para visualizar los datos utilizaremos el método `imshow` de `matplotlib`. Resulta necesario convertir el arreglo desde las dimensiones (1,64)  a (8,8) para que la imagen sea cuadrada y pueda distinguirse el dígito. Superpondremos además el label correspondiente al dígito, mediante el método `text`. Esto nos permitirá comparar la imagen generada con la etiqueta asociada a los valores. Realizaremos lo anterior para los primeros 25 datos del archivo."
      ]
    },
    {
      "cell_type": "code",
      "execution_count": null,
      "id": "d3d8b886",
      "metadata": {
        "id": "d3d8b886"
      },
      "outputs": [],
      "source": [
        "digits_dict[\"images\"][0]"
      ]
    },
    {
      "cell_type": "markdown",
      "id": "d29838d7",
      "metadata": {
        "id": "d29838d7"
      },
      "source": [
        "Visualiza imágenes de los dígitos utilizando la llave `images` de `digits_dict`.\n",
        "\n",
        "> **Sugerencia**: Utiliza `plt.subplots` y el método `imshow`. Puedes hacer una grilla de varias imágenes al mismo tiempo!"
      ]
    },
    {
      "cell_type": "code",
      "execution_count": null,
      "id": "626efb96",
      "metadata": {
        "id": "626efb96"
      },
      "outputs": [],
      "source": [
        "nx, ny = 5, 5\n",
        "fig, axs = plt.subplots(nx, ny, figsize=(12, 12))\n",
        "## FIXME"
      ]
    },
    {
      "cell_type": "markdown",
      "id": "dd774eeb",
      "metadata": {
        "id": "dd774eeb"
      },
      "source": [
        "### Ejercicio 3\n",
        "\n",
        "**Machine Learning**: En esta parte usted debe entrenar los distintos modelos escogidos desde la librería de `skelearn`. Para cada modelo, debe realizar los siguientes pasos:\n",
        "\n",
        "* **train-test**\n",
        "     * Crear conjunto de entrenamiento y testeo (usted determine las proporciones adecuadas).\n",
        "     * Imprimir por pantalla el largo del conjunto de entrenamiento y de testeo.\n",
        "  \n",
        "* **modelo**:\n",
        "     * Instanciar el modelo objetivo desde la librería sklearn.\n",
        "\n",
        "* **Métricas**:\n",
        "     * Graficar matriz de confusión.\n",
        "     * Analizar métricas de error.\n",
        "\n",
        "\n",
        "\n",
        "__Preguntas a responder:__\n",
        "\n",
        "* ¿Cuál modelo es mejor basado en sus métricas?\n",
        "* ¿Cuál modelo demora menos tiempo en ajustarse?\n",
        "* ¿Qué modelo escoges?\n"
      ]
    },
    {
      "cell_type": "code",
      "execution_count": null,
      "id": "540d535c",
      "metadata": {
        "id": "540d535c"
      },
      "outputs": [],
      "source": [
        "# features, target\n",
        "\n",
        "X = digits.drop(columns=\"target\").values\n",
        "y = digits[\"target\"].values"
      ]
    },
    {
      "cell_type": "markdown",
      "id": "ed76c2e1",
      "metadata": {
        "id": "ed76c2e1"
      },
      "source": [
        "### Ejercicio 4\n",
        "\n",
        "__Comprensión del modelo:__ Tomando en cuenta el **mejor modelo entontrado** en el `Ejercicio 3`, debe comprender e interpretar minuciosamente los resultados y gráficos asocados al modelo en estudio, para ello debe resolver los siguientes puntos:\n",
        "\n",
        "\n",
        " * **Curva AUC–ROC**: Replica el ejemplo del siguiente  [link](https://scikit-learn.org/stable/auto_examples/model_selection/plot_roc.html#sphx-glr-auto-examples-model-selection-plot-roc-py) pero con el modelo, parámetros y métrica adecuada. Saque conclusiones del gráfico."
      ]
    },
    {
      "cell_type": "code",
      "execution_count": null,
      "id": "add5aa81",
      "metadata": {
        "id": "add5aa81"
      },
      "outputs": [],
      "source": [
        "# FIXME"
      ]
    },
    {
      "cell_type": "markdown",
      "id": "69ae2a9b",
      "metadata": {
        "id": "69ae2a9b"
      },
      "source": [
        "### Ejercicio 5\n",
        "\n",
        "\n",
        "__Visualizando Resultados:__ A continuación se provee código para comparar las etiquetas predichas vs las etiquetas reales del conjunto de _test_."
      ]
    },
    {
      "cell_type": "code",
      "execution_count": null,
      "id": "6a46dd8f",
      "metadata": {
        "id": "6a46dd8f"
      },
      "outputs": [],
      "source": [
        "def mostrar_resultados(digits, model, nx=5, ny=5, label=\"correctos\"):\n",
        "    \"\"\"\n",
        "    Muestra los resultados de las predicciones de un modelo de clasificación en particular.\n",
        "    Se toman aleatoriamente los valores de los resultados.\n",
        "\n",
        "    - label == 'correctos': muestra los valores en los que el modelo acierta.\n",
        "    - label == 'incorrectos': muestra los valores en los que el modelo no acierta.\n",
        "\n",
        "    Observación: El modelo que se recibe como argumento no debe estar entrenado.\n",
        "\n",
        "    :param digits: dataset 'digits'\n",
        "    :param model: modelo de sklearn\n",
        "    :param nx: número de filas (subplots)\n",
        "    :param ny: número de columnas (subplots)\n",
        "    :param label: 'correctos' o 'incorrectos'\n",
        "    :return: gráficos matplotlib\n",
        "    \"\"\"\n",
        "\n",
        "    X = digits.drop(columns=\"target\").values\n",
        "    y = digits[\"target\"].values\n",
        "    X_train, X_test, y_train, y_test = train_test_split(X, y, test_size=0.2, random_state=42)\n",
        "    model.fit(X_train, y_train)  # Ajustar el modelo\n",
        "    y_pred = model.predict(X_test)\n",
        "\n",
        "    # Mostrar los datos correctos\n",
        "    if label == \"correctos\":\n",
        "        mask = (y_pred == y_test)\n",
        "        color = \"green\"\n",
        "\n",
        "    # Mostrar los datos incorrectos\n",
        "    elif label == \"incorrectos\":\n",
        "        mask = (y_pred != y_test)\n",
        "        color = \"red\"\n",
        "\n",
        "    else:\n",
        "        raise ValueError(\"Valor incorrecto\")\n",
        "\n",
        "    X_aux = X_test[mask]\n",
        "    y_aux_true = y_test[mask]\n",
        "    y_aux_pred = y_pred[mask]\n",
        "\n",
        "    # Mostrar los resultados\n",
        "    n_samples = min(nx * ny, len(X_aux))\n",
        "    indices = np.random.choice(len(X_aux), n_samples, replace=False)\n",
        "    fig, ax = plt.subplots(nx, ny, figsize=(12, 12))\n",
        "\n",
        "    for i, index in enumerate(indices):\n",
        "        data = X_aux[index, :].reshape(8, 8)\n",
        "        label_pred = str(int(y_aux_pred[index]))\n",
        "        label_true = str(int(y_aux_true[index]))\n",
        "        row = i // ny\n",
        "        col = i % ny\n",
        "        ax[row, col].imshow(data, interpolation='nearest', cmap='gray_r')\n",
        "        ax[row, col].text(0, 0, label_pred, horizontalalignment='center', verticalalignment='center', fontsize=10, color=color)\n",
        "        ax[row, col].text(7, 0, label_true, horizontalalignment='center', verticalalignment='center', fontsize=10, color='blue')\n",
        "        ax[row, col].get_xaxis().set_visible(False)\n",
        "        ax[row, col].get_yaxis().set_visible(False)\n",
        "\n",
        "    plt.show()"
      ]
    },
    {
      "cell_type": "markdown",
      "id": "72aa6f68",
      "metadata": {
        "id": "72aa6f68"
      },
      "source": [
        "**Pregunta**\n",
        "\n",
        "* Tomando en cuenta el mejor modelo entontrado en el `Ejercicio 3`, grafique los resultados cuando:\n",
        " * el valor predicho y original son iguales\n",
        " * el valor predicho y original son distintos\n",
        "\n",
        "\n",
        "* Cuando el valor predicho y original son distintos ,  ¿Por qué ocurren estas fallas?"
      ]
    },
    {
      "cell_type": "markdown",
      "id": "8f0ba3dd",
      "metadata": {
        "id": "8f0ba3dd"
      },
      "source": [
        "### Ejercicio 6\n",
        "**Conclusiones**: Entrega tu veredicto, responde las preguntas iniciales, visualizaciones, trabajos futuros, dificultades, etc."
      ]
    },
    {
      "cell_type": "markdown",
      "id": "2ca2338c",
      "metadata": {
        "id": "2ca2338c"
      },
      "source": []
    }
  ],
  "metadata": {
    "colab": {
      "provenance": []
    },
    "kernelspec": {
      "display_name": "Python 3 (ipykernel)",
      "language": "python",
      "name": "python3"
    },
    "language_info": {
      "codemirror_mode": {
        "name": "ipython",
        "version": 3
      },
      "file_extension": ".py",
      "mimetype": "text/x-python",
      "name": "python",
      "nbconvert_exporter": "python",
      "pygments_lexer": "ipython3",
      "version": "3.10.11"
    }
  },
  "nbformat": 4,
  "nbformat_minor": 5
}